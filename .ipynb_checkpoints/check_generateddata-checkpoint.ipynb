{
 "cells": [
  {
   "cell_type": "code",
   "execution_count": 7,
   "metadata": {},
   "outputs": [],
   "source": [
    "from PIL import Image\n",
    "import os,glob\n",
    "import numpy as np\n",
    "from sklearn import model_selection\n",
    "\n",
    "classes=[\"monkey\",\"boar\",\"crow\"]\n",
    "num_classes=len(classes)\n",
    "image_size=50\n",
    "\n",
    "X = []\n",
    "Y = []\n",
    "for index, classlabel in enumerate(classes):\n",
    "    photos_dir=\"./\" + classlabel\n",
    "    files=glob.glob(photos_dir + \"/*.jpg\")\n",
    "    for i,file in enumerate(files):\n",
    "        if i>=200:break\n",
    "        image = Image.open(file)\n",
    "        image = image.convert(\"RGB\")\n",
    "        image = image.resize((image_size,image_size))\n",
    "        data = np.asarray(image)\n",
    "        X.append(data)\n",
    "        Y.append(index)\n",
    "\n",
    "\n",
    "X = np.array(X)\n",
    "Y = np.array(Y)\n"
   ]
  },
  {
   "cell_type": "code",
   "execution_count": 8,
   "metadata": {},
   "outputs": [
    {
     "data": {
      "text/plain": [
       "array([[[142, 115,  94],\n",
       "        [149, 118,  98],\n",
       "        [152, 120,  97],\n",
       "        ...,\n",
       "        [190, 162, 138],\n",
       "        [179, 152, 125],\n",
       "        [184, 151, 118]],\n",
       "\n",
       "       [[136, 105,  84],\n",
       "        [135, 103,  80],\n",
       "        [158, 126, 103],\n",
       "        ...,\n",
       "        [196, 164, 141],\n",
       "        [200, 169, 141],\n",
       "        [206, 176, 150]],\n",
       "\n",
       "       [[134,  99,  79],\n",
       "        [136, 102,  77],\n",
       "        [153, 118,  98],\n",
       "        ...,\n",
       "        [212, 178, 153],\n",
       "        [183, 155, 131],\n",
       "        [191, 163, 139]],\n",
       "\n",
       "       ...,\n",
       "\n",
       "       [[ 34,  26,  23],\n",
       "        [ 22,  21,  19],\n",
       "        [  7,   0,   0],\n",
       "        ...,\n",
       "        [209, 179, 155],\n",
       "        [209, 181, 157],\n",
       "        [207, 177, 151]],\n",
       "\n",
       "       [[177, 158, 143],\n",
       "        [204, 176, 155],\n",
       "        [212, 182, 156],\n",
       "        ...,\n",
       "        [181, 154, 133],\n",
       "        [212, 184, 162],\n",
       "        [214, 184, 158]],\n",
       "\n",
       "       [[208, 178, 154],\n",
       "        [234, 208, 185],\n",
       "        [206, 179, 158],\n",
       "        ...,\n",
       "        [205, 178, 157],\n",
       "        [196, 168, 146],\n",
       "        [208, 177, 156]]], dtype=uint8)"
      ]
     },
     "execution_count": 8,
     "metadata": {},
     "output_type": "execute_result"
    }
   ],
   "source": [
    "X[0]"
   ]
  },
  {
   "cell_type": "code",
   "execution_count": 9,
   "metadata": {},
   "outputs": [
    {
     "data": {
      "text/plain": [
       "356"
      ]
     },
     "execution_count": 9,
     "metadata": {},
     "output_type": "execute_result"
    }
   ],
   "source": [
    "len(X)"
   ]
  },
  {
   "cell_type": "code",
   "execution_count": 10,
   "metadata": {},
   "outputs": [
    {
     "data": {
      "text/plain": [
       "0"
      ]
     },
     "execution_count": 10,
     "metadata": {},
     "output_type": "execute_result"
    }
   ],
   "source": [
    "Y[100]"
   ]
  },
  {
   "cell_type": "code",
   "execution_count": 11,
   "metadata": {},
   "outputs": [
    {
     "data": {
      "text/plain": [
       "1"
      ]
     },
     "execution_count": 11,
     "metadata": {},
     "output_type": "execute_result"
    }
   ],
   "source": [
    "Y[200]"
   ]
  },
  {
   "cell_type": "code",
   "execution_count": 13,
   "metadata": {},
   "outputs": [],
   "source": [
    "from PIL import Image\n",
    "import os,glob\n",
    "import numpy as np\n",
    "from sklearn import model_selection\n",
    "\n",
    "classes=[\"monkey\",\"boar\",\"crow\"]\n",
    "num_classes=len(classes)\n",
    "image_size=50\n",
    "\n",
    "X = []\n",
    "Y = []\n",
    "for index, classlabel in enumerate(classes):\n",
    "    photos_dir=\"./\" + classlabel\n",
    "    files=glob.glob(photos_dir + \"/*.jpg\")\n",
    "    for i,file in enumerate(files):\n",
    "        if i>=200:break\n",
    "        image = Image.open(file)\n",
    "        image = image.convert(\"RGB\")\n",
    "        image = image.resize((image_size,image_size))\n",
    "        data = np.asarray(image)\n",
    "        X.append(data)\n",
    "        Y.append(index)\n",
    "\n",
    "\n",
    "X = np.array(X)\n",
    "Y = np.array(Y)\n",
    "\n",
    "X_train,X_test,y_train,y_test=model_selection.train_test_split(X,Y)\n",
    "xy=(X_train,X_test,y_train,y_test)\n",
    "np.save(\"./animal.npy\",xy)\n"
   ]
  },
  {
   "cell_type": "code",
   "execution_count": 14,
   "metadata": {},
   "outputs": [
    {
     "data": {
      "text/plain": [
       "267"
      ]
     },
     "execution_count": 14,
     "metadata": {},
     "output_type": "execute_result"
    }
   ],
   "source": [
    "len(X_train)"
   ]
  },
  {
   "cell_type": "code",
   "execution_count": 15,
   "metadata": {},
   "outputs": [
    {
     "data": {
      "text/plain": [
       "89"
      ]
     },
     "execution_count": 15,
     "metadata": {},
     "output_type": "execute_result"
    }
   ],
   "source": [
    "len(X_test)"
   ]
  },
  {
   "cell_type": "code",
   "execution_count": 17,
   "metadata": {},
   "outputs": [
    {
     "data": {
      "text/plain": [
       "267"
      ]
     },
     "execution_count": 17,
     "metadata": {},
     "output_type": "execute_result"
    }
   ],
   "source": [
    "len(y_train)"
   ]
  },
  {
   "cell_type": "code",
   "execution_count": 18,
   "metadata": {},
   "outputs": [
    {
     "data": {
      "text/plain": [
       "89"
      ]
     },
     "execution_count": 18,
     "metadata": {},
     "output_type": "execute_result"
    }
   ],
   "source": [
    "len(y_test)"
   ]
  },
  {
   "cell_type": "code",
   "execution_count": 19,
   "metadata": {},
   "outputs": [
    {
     "data": {
      "text/plain": [
       "array([[[ 99,  91,  89],\n",
       "        [100,  91,  92],\n",
       "        [ 71,  62,  67],\n",
       "        ...,\n",
       "        [113,  97, 108],\n",
       "        [ 61,  52,  55],\n",
       "        [ 99,  90,  93]],\n",
       "\n",
       "       [[147, 133, 133],\n",
       "        [179, 165, 165],\n",
       "        [123, 108, 111],\n",
       "        ...,\n",
       "        [144, 128, 138],\n",
       "        [132, 122, 123],\n",
       "        [114, 104, 105]],\n",
       "\n",
       "       [[110,  98,  98],\n",
       "        [ 91,  80,  78],\n",
       "        [ 61,  50,  48],\n",
       "        ...,\n",
       "        [149, 136, 143],\n",
       "        [ 87,  75,  77],\n",
       "        [133, 118, 121]],\n",
       "\n",
       "       ...,\n",
       "\n",
       "       [[105, 121, 108],\n",
       "        [127, 140, 133],\n",
       "        [117, 128, 124],\n",
       "        ...,\n",
       "        [147, 150, 141],\n",
       "        [117, 125, 110],\n",
       "        [162, 170, 159]],\n",
       "\n",
       "       [[118, 123, 117],\n",
       "        [118, 124, 120],\n",
       "        [143, 152, 147],\n",
       "        ...,\n",
       "        [148, 147, 143],\n",
       "        [120, 123, 116],\n",
       "        [147, 150, 141]],\n",
       "\n",
       "       [[128, 134, 130],\n",
       "        [145, 154, 149],\n",
       "        [136, 145, 140],\n",
       "        ...,\n",
       "        [138, 139, 134],\n",
       "        [138, 141, 134],\n",
       "        [146, 149, 140]]], dtype=uint8)"
      ]
     },
     "execution_count": 19,
     "metadata": {},
     "output_type": "execute_result"
    }
   ],
   "source": [
    "X_train[100]"
   ]
  },
  {
   "cell_type": "code",
   "execution_count": 20,
   "metadata": {},
   "outputs": [
    {
     "data": {
      "text/plain": [
       "1"
      ]
     },
     "execution_count": 20,
     "metadata": {},
     "output_type": "execute_result"
    }
   ],
   "source": [
    "y_train[100]"
   ]
  },
  {
   "cell_type": "code",
   "execution_count": null,
   "metadata": {},
   "outputs": [],
   "source": []
  }
 ],
 "metadata": {
  "kernelspec": {
   "display_name": "Python 3",
   "language": "python",
   "name": "python3"
  },
  "language_info": {
   "codemirror_mode": {
    "name": "ipython",
    "version": 3
   },
   "file_extension": ".py",
   "mimetype": "text/x-python",
   "name": "python",
   "nbconvert_exporter": "python",
   "pygments_lexer": "ipython3",
   "version": "3.6.8"
  }
 },
 "nbformat": 4,
 "nbformat_minor": 2
}
